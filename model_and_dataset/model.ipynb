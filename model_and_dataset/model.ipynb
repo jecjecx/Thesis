{
  "cells": [
    {
      "cell_type": "code",
      "execution_count": 430,
      "metadata": {
        "id": "968a9UWaPqaT"
      },
      "outputs": [],
      "source": [
        "import tensorflow as tf\n",
        "import pandas as pd\n",
        "from sklearn.model_selection import train_test_split\n",
        "import keras\n",
        "import np_utils\n",
        "import numpy as np"
      ]
    },
    {
      "cell_type": "markdown",
      "source": [
        "## Load Data"
      ],
      "metadata": {
        "id": "dkDAxKM3lOWx"
      }
    },
    {
      "cell_type": "code",
      "execution_count": 431,
      "metadata": {
        "id": "5hkK9_09PzoJ",
        "colab": {
          "base_uri": "https://localhost:8080/"
        },
        "outputId": "d8fac75b-93bb-414a-f827-6216435856c2"
      },
      "outputs": [
        {
          "output_type": "stream",
          "name": "stderr",
          "text": [
            "<ipython-input-431-6867931c6ca1>:1: DtypeWarning: Columns (117) have mixed types. Specify dtype option on import or set low_memory=False.\n",
            "  df = pd.read_csv(\"malgenome\")\n"
          ]
        }
      ],
      "source": [
        "df = pd.read_csv(\"malgenome\")"
      ]
    },
    {
      "cell_type": "markdown",
      "source": [
        "## Clean Data"
      ],
      "metadata": {
        "id": "a-ScK3PmlRR4"
      }
    },
    {
      "cell_type": "code",
      "source": [
        "# Replace NaN Values\n",
        "df = df.fillna(0)\n",
        "\n",
        "# Convert float columns to int\n",
        "int_columns = df.select_dtypes(include=['int']).columns\n",
        "df[int_columns] = df[int_columns].astype(float)"
      ],
      "metadata": {
        "id": "yIDBTNJq4BKr"
      },
      "execution_count": 432,
      "outputs": []
    },
    {
      "cell_type": "code",
      "source": [
        "X = df.drop(['class'], axis=1)\n",
        "search_string = 'B'\n",
        "result = X[X.eq(search_string).any(axis=1)]\n",
        "result"
      ],
      "metadata": {
        "colab": {
          "base_uri": "https://localhost:8080/",
          "height": 130
        },
        "id": "d0eEnLIcGdQp",
        "outputId": "136f38c6-7506-41be-ad20-538a5eef40e9"
      },
      "execution_count": 433,
      "outputs": [
        {
          "output_type": "execute_result",
          "data": {
            "text/plain": [
              "      transact  bindService  onServiceConnected  ServiceConnection  \\\n",
              "3799       0.0          0.0                 0.0                1.0   \n",
              "\n",
              "      android.os.Binder  READ_SMS  attachInterface  WRITE_SMS  \\\n",
              "3799                0.0       0.0              1.0        0.0   \n",
              "\n",
              "      TelephonyManager.getSubscriberId  Ljava.lang.Class.getCanonicalName  \\\n",
              "3799                               0.0                                0.0   \n",
              "\n",
              "      ...  READ_EXTERNAL_STORAGE  Ljava.lang.Object.getClass  SET_ORIENTATION  \\\n",
              "3799  ...                    0.0                         0.0              0.0   \n",
              "\n",
              "      DEVICE_POWER  EXPAND_STATUS_BAR  GET_TASKS  GLOBAL_SEARCH  \\\n",
              "3799           0.0                0.0        0.0            0.0   \n",
              "\n",
              "      GET_PACKAGE_SIZE  SET_PREFERRED_APPLICATIONS  \\\n",
              "3799               0.0                         0.0   \n",
              "\n",
              "      android.intent.action.PACKAGE_CHANGED  \n",
              "3799                                    0.0  \n",
              "\n",
              "[1 rows x 215 columns]"
            ],
            "text/html": [
              "\n",
              "  <div id=\"df-e04ab593-1469-4cde-bf92-b1552195679f\" class=\"colab-df-container\">\n",
              "    <div>\n",
              "<style scoped>\n",
              "    .dataframe tbody tr th:only-of-type {\n",
              "        vertical-align: middle;\n",
              "    }\n",
              "\n",
              "    .dataframe tbody tr th {\n",
              "        vertical-align: top;\n",
              "    }\n",
              "\n",
              "    .dataframe thead th {\n",
              "        text-align: right;\n",
              "    }\n",
              "</style>\n",
              "<table border=\"1\" class=\"dataframe\">\n",
              "  <thead>\n",
              "    <tr style=\"text-align: right;\">\n",
              "      <th></th>\n",
              "      <th>transact</th>\n",
              "      <th>bindService</th>\n",
              "      <th>onServiceConnected</th>\n",
              "      <th>ServiceConnection</th>\n",
              "      <th>android.os.Binder</th>\n",
              "      <th>READ_SMS</th>\n",
              "      <th>attachInterface</th>\n",
              "      <th>WRITE_SMS</th>\n",
              "      <th>TelephonyManager.getSubscriberId</th>\n",
              "      <th>Ljava.lang.Class.getCanonicalName</th>\n",
              "      <th>...</th>\n",
              "      <th>READ_EXTERNAL_STORAGE</th>\n",
              "      <th>Ljava.lang.Object.getClass</th>\n",
              "      <th>SET_ORIENTATION</th>\n",
              "      <th>DEVICE_POWER</th>\n",
              "      <th>EXPAND_STATUS_BAR</th>\n",
              "      <th>GET_TASKS</th>\n",
              "      <th>GLOBAL_SEARCH</th>\n",
              "      <th>GET_PACKAGE_SIZE</th>\n",
              "      <th>SET_PREFERRED_APPLICATIONS</th>\n",
              "      <th>android.intent.action.PACKAGE_CHANGED</th>\n",
              "    </tr>\n",
              "  </thead>\n",
              "  <tbody>\n",
              "    <tr>\n",
              "      <th>3799</th>\n",
              "      <td>0.0</td>\n",
              "      <td>0.0</td>\n",
              "      <td>0.0</td>\n",
              "      <td>1.0</td>\n",
              "      <td>0.0</td>\n",
              "      <td>0.0</td>\n",
              "      <td>1.0</td>\n",
              "      <td>0.0</td>\n",
              "      <td>0.0</td>\n",
              "      <td>0.0</td>\n",
              "      <td>...</td>\n",
              "      <td>0.0</td>\n",
              "      <td>0.0</td>\n",
              "      <td>0.0</td>\n",
              "      <td>0.0</td>\n",
              "      <td>0.0</td>\n",
              "      <td>0.0</td>\n",
              "      <td>0.0</td>\n",
              "      <td>0.0</td>\n",
              "      <td>0.0</td>\n",
              "      <td>0.0</td>\n",
              "    </tr>\n",
              "  </tbody>\n",
              "</table>\n",
              "<p>1 rows × 215 columns</p>\n",
              "</div>\n",
              "    <div class=\"colab-df-buttons\">\n",
              "\n",
              "  <div class=\"colab-df-container\">\n",
              "    <button class=\"colab-df-convert\" onclick=\"convertToInteractive('df-e04ab593-1469-4cde-bf92-b1552195679f')\"\n",
              "            title=\"Convert this dataframe to an interactive table.\"\n",
              "            style=\"display:none;\">\n",
              "\n",
              "  <svg xmlns=\"http://www.w3.org/2000/svg\" height=\"24px\" viewBox=\"0 -960 960 960\">\n",
              "    <path d=\"M120-120v-720h720v720H120Zm60-500h600v-160H180v160Zm220 220h160v-160H400v160Zm0 220h160v-160H400v160ZM180-400h160v-160H180v160Zm440 0h160v-160H620v160ZM180-180h160v-160H180v160Zm440 0h160v-160H620v160Z\"/>\n",
              "  </svg>\n",
              "    </button>\n",
              "\n",
              "  <style>\n",
              "    .colab-df-container {\n",
              "      display:flex;\n",
              "      gap: 12px;\n",
              "    }\n",
              "\n",
              "    .colab-df-convert {\n",
              "      background-color: #E8F0FE;\n",
              "      border: none;\n",
              "      border-radius: 50%;\n",
              "      cursor: pointer;\n",
              "      display: none;\n",
              "      fill: #1967D2;\n",
              "      height: 32px;\n",
              "      padding: 0 0 0 0;\n",
              "      width: 32px;\n",
              "    }\n",
              "\n",
              "    .colab-df-convert:hover {\n",
              "      background-color: #E2EBFA;\n",
              "      box-shadow: 0px 1px 2px rgba(60, 64, 67, 0.3), 0px 1px 3px 1px rgba(60, 64, 67, 0.15);\n",
              "      fill: #174EA6;\n",
              "    }\n",
              "\n",
              "    .colab-df-buttons div {\n",
              "      margin-bottom: 4px;\n",
              "    }\n",
              "\n",
              "    [theme=dark] .colab-df-convert {\n",
              "      background-color: #3B4455;\n",
              "      fill: #D2E3FC;\n",
              "    }\n",
              "\n",
              "    [theme=dark] .colab-df-convert:hover {\n",
              "      background-color: #434B5C;\n",
              "      box-shadow: 0px 1px 3px 1px rgba(0, 0, 0, 0.15);\n",
              "      filter: drop-shadow(0px 1px 2px rgba(0, 0, 0, 0.3));\n",
              "      fill: #FFFFFF;\n",
              "    }\n",
              "  </style>\n",
              "\n",
              "    <script>\n",
              "      const buttonEl =\n",
              "        document.querySelector('#df-e04ab593-1469-4cde-bf92-b1552195679f button.colab-df-convert');\n",
              "      buttonEl.style.display =\n",
              "        google.colab.kernel.accessAllowed ? 'block' : 'none';\n",
              "\n",
              "      async function convertToInteractive(key) {\n",
              "        const element = document.querySelector('#df-e04ab593-1469-4cde-bf92-b1552195679f');\n",
              "        const dataTable =\n",
              "          await google.colab.kernel.invokeFunction('convertToInteractive',\n",
              "                                                    [key], {});\n",
              "        if (!dataTable) return;\n",
              "\n",
              "        const docLinkHtml = 'Like what you see? Visit the ' +\n",
              "          '<a target=\"_blank\" href=https://colab.research.google.com/notebooks/data_table.ipynb>data table notebook</a>'\n",
              "          + ' to learn more about interactive tables.';\n",
              "        element.innerHTML = '';\n",
              "        dataTable['output_type'] = 'display_data';\n",
              "        await google.colab.output.renderOutput(dataTable, element);\n",
              "        const docLink = document.createElement('div');\n",
              "        docLink.innerHTML = docLinkHtml;\n",
              "        element.appendChild(docLink);\n",
              "      }\n",
              "    </script>\n",
              "  </div>\n",
              "\n",
              "    </div>\n",
              "  </div>\n"
            ],
            "application/vnd.google.colaboratory.intrinsic+json": {
              "type": "dataframe",
              "variable_name": "result"
            }
          },
          "metadata": {},
          "execution_count": 433
        }
      ]
    },
    {
      "cell_type": "code",
      "source": [
        "search_string = 'B'\n",
        "\n",
        "# Check if the search string exists in each cell\n",
        "result = X.applymap(lambda x: search_string in str(x))\n",
        "\n",
        "# Identify the columns where the search string exists\n",
        "columns_with_string = result.any()\n",
        "\n",
        "# Get the names of the columns\n",
        "columns_containing_string = columns_with_string[columns_with_string].index.tolist()\n",
        "\n",
        "print(\"Columns containing the string '{}': {}\".format(search_string, columns_containing_string))"
      ],
      "metadata": {
        "colab": {
          "base_uri": "https://localhost:8080/"
        },
        "id": "jmeYJI0OIb3R",
        "outputId": "4aa425fd-0d4a-4325-f268-3ceadfc80990"
      },
      "execution_count": 434,
      "outputs": [
        {
          "output_type": "stream",
          "name": "stdout",
          "text": [
            "Columns containing the string 'B': ['android.intent.action.NEW_OUTGOING_CALL']\n"
          ]
        }
      ]
    },
    {
      "cell_type": "code",
      "source": [
        "X['android.intent.action.NEW_OUTGOING_CALL'][3799] = 0.0"
      ],
      "metadata": {
        "colab": {
          "base_uri": "https://localhost:8080/"
        },
        "id": "fgCeA--hI0dy",
        "outputId": "8c5d3351-fd2d-4ca8-feff-ffc843166f44"
      },
      "execution_count": 435,
      "outputs": [
        {
          "output_type": "stream",
          "name": "stderr",
          "text": [
            "<ipython-input-435-b53691ab237e>:1: SettingWithCopyWarning: \n",
            "A value is trying to be set on a copy of a slice from a DataFrame\n",
            "\n",
            "See the caveats in the documentation: https://pandas.pydata.org/pandas-docs/stable/user_guide/indexing.html#returning-a-view-versus-a-copy\n",
            "  X['android.intent.action.NEW_OUTGOING_CALL'][3799] = 0.0\n"
          ]
        }
      ]
    },
    {
      "cell_type": "code",
      "source": [
        "X['android.intent.action.NEW_OUTGOING_CALL'][3799]"
      ],
      "metadata": {
        "colab": {
          "base_uri": "https://localhost:8080/"
        },
        "id": "upf9F69fJSyR",
        "outputId": "ac347b90-1f6e-4179-c637-33e2966ba040"
      },
      "execution_count": 436,
      "outputs": [
        {
          "output_type": "execute_result",
          "data": {
            "text/plain": [
              "0.0"
            ]
          },
          "metadata": {},
          "execution_count": 436
        }
      ]
    },
    {
      "cell_type": "code",
      "source": [
        "y = df['class']\n",
        "y = y.replace({'S': 1, 'B': 0})"
      ],
      "metadata": {
        "id": "zVfXXfa17VYR"
      },
      "execution_count": 437,
      "outputs": []
    },
    {
      "cell_type": "markdown",
      "source": [
        "## Split Data into Train and Test"
      ],
      "metadata": {
        "id": "AmjmESeLlWKp"
      }
    },
    {
      "cell_type": "code",
      "execution_count": 438,
      "metadata": {
        "id": "13yTzylH0qtM"
      },
      "outputs": [],
      "source": [
        "# Split the data into training and testing sets\n",
        "X_train, X_test, y_train, y_test = train_test_split(X, y, test_size=0.2, random_state=42)"
      ]
    },
    {
      "cell_type": "code",
      "source": [
        "y_train = keras.utils.to_categorical(y_train,num_classes=2)\n",
        "y_test = keras.utils.to_categorical(y_test,num_classes=2)"
      ],
      "metadata": {
        "id": "gDBZSIHWEbuQ"
      },
      "execution_count": 439,
      "outputs": []
    },
    {
      "cell_type": "markdown",
      "source": [
        "## Build the Neural Network"
      ],
      "metadata": {
        "id": "AbK4lRlwlm1I"
      }
    },
    {
      "cell_type": "code",
      "execution_count": 440,
      "metadata": {
        "colab": {
          "base_uri": "https://localhost:8080/"
        },
        "id": "0bezdXW90qtM",
        "outputId": "47a1614f-8716-4e7b-9a0f-2f145e9cf3be"
      },
      "outputs": [
        {
          "output_type": "stream",
          "name": "stdout",
          "text": [
            "Model: \"sequential_17\"\n",
            "_________________________________________________________________\n",
            " Layer (type)                Output Shape              Param #   \n",
            "=================================================================\n",
            " dense_51 (Dense)            (None, 64)                13824     \n",
            "                                                                 \n",
            " dense_52 (Dense)            (None, 32)                2080      \n",
            "                                                                 \n",
            " dense_53 (Dense)            (None, 2)                 66        \n",
            "                                                                 \n",
            "=================================================================\n",
            "Total params: 15970 (62.38 KB)\n",
            "Trainable params: 15970 (62.38 KB)\n",
            "Non-trainable params: 0 (0.00 Byte)\n",
            "_________________________________________________________________\n"
          ]
        }
      ],
      "source": [
        "# Build the model\n",
        "model = tf.keras.models.Sequential([\n",
        "    tf.keras.layers.Dense(64, activation='relu', input_shape=(215,)),\n",
        "    tf.keras.layers.Dense(32, activation='relu'),\n",
        "    tf.keras.layers.Dense(2, activation='sigmoid')\n",
        "])\n",
        "\n",
        "model.summary()"
      ]
    },
    {
      "cell_type": "code",
      "execution_count": 441,
      "metadata": {
        "id": "CAAuCoQD0qtM"
      },
      "outputs": [],
      "source": [
        "model.compile(optimizer='adam',\n",
        "                loss='binary_crossentropy',\n",
        "                metrics=['accuracy'])"
      ]
    },
    {
      "cell_type": "markdown",
      "source": [
        "## Train the Neural Network"
      ],
      "metadata": {
        "id": "o1UU51Wzltxy"
      }
    },
    {
      "cell_type": "code",
      "execution_count": 442,
      "metadata": {
        "colab": {
          "base_uri": "https://localhost:8080/"
        },
        "id": "Pak0xe9dQRvt",
        "outputId": "ecbaf4ed-f073-43ce-b153-9d5e0099fbe6"
      },
      "outputs": [
        {
          "output_type": "stream",
          "name": "stdout",
          "text": [
            "Epoch 1/10\n",
            "130/130 [==============================] - 2s 5ms/step - loss: 0.1947 - accuracy: 0.9344\n",
            "Epoch 2/10\n",
            "130/130 [==============================] - 0s 4ms/step - loss: 0.0447 - accuracy: 0.9879\n",
            "Epoch 3/10\n",
            "130/130 [==============================] - 0s 3ms/step - loss: 0.0245 - accuracy: 0.9920\n",
            "Epoch 4/10\n",
            "130/130 [==============================] - 0s 3ms/step - loss: 0.0137 - accuracy: 0.9969\n",
            "Epoch 5/10\n",
            "130/130 [==============================] - 0s 3ms/step - loss: 0.0086 - accuracy: 0.9981\n",
            "Epoch 6/10\n",
            "130/130 [==============================] - 0s 2ms/step - loss: 0.0061 - accuracy: 0.9990\n",
            "Epoch 7/10\n",
            "130/130 [==============================] - 0s 2ms/step - loss: 0.0048 - accuracy: 0.9988\n",
            "Epoch 8/10\n",
            "130/130 [==============================] - 0s 3ms/step - loss: 0.0034 - accuracy: 0.9993\n",
            "Epoch 9/10\n",
            "130/130 [==============================] - 0s 3ms/step - loss: 0.0025 - accuracy: 0.9995\n",
            "Epoch 10/10\n",
            "130/130 [==============================] - 0s 3ms/step - loss: 0.0018 - accuracy: 0.9995\n"
          ]
        },
        {
          "output_type": "execute_result",
          "data": {
            "text/plain": [
              "<keras.src.callbacks.History at 0x7e1ed54ebdf0>"
            ]
          },
          "metadata": {},
          "execution_count": 442
        }
      ],
      "source": [
        "X_train = X_train.astype('float32')\n",
        "y_train = y_train.astype('float32')\n",
        "# Train the model\n",
        "model.fit(X_train, y_train, epochs=10)"
      ]
    },
    {
      "cell_type": "markdown",
      "source": [
        "## Evaluate the Neural Network"
      ],
      "metadata": {
        "id": "QnYRlBwHlwce"
      }
    },
    {
      "cell_type": "code",
      "execution_count": 443,
      "metadata": {
        "colab": {
          "base_uri": "https://localhost:8080/"
        },
        "id": "G7hlA1230qtN",
        "outputId": "2f85c560-fbb0-4ee6-bb56-6b902f3d7623"
      },
      "outputs": [
        {
          "output_type": "stream",
          "name": "stdout",
          "text": [
            "33/33 [==============================] - 0s 2ms/step - loss: 0.0269 - accuracy: 0.9923\n",
            "Test Loss: 0.02687019295990467\n",
            "Test Accuracy: 0.9922928810119629\n"
          ]
        }
      ],
      "source": [
        "X_test = X_test.astype('float32')\n",
        "y_test = y_test.astype('float32')\n",
        "\n",
        "# Evaluate the model\n",
        "loss, accuracy = model.evaluate(X_test, y_test)\n",
        "print(\"Test Loss:\", loss)\n",
        "print(\"Test Accuracy:\", accuracy)"
      ]
    },
    {
      "cell_type": "markdown",
      "source": [
        "## Test the Neural Network"
      ],
      "metadata": {
        "id": "OuMHqRA1lyll"
      }
    },
    {
      "cell_type": "code",
      "source": [
        "predictions = model.predict(X_test[0:5])\n",
        "predictions"
      ],
      "metadata": {
        "colab": {
          "base_uri": "https://localhost:8080/"
        },
        "id": "6MQ2mET3hFFK",
        "outputId": "3ee03009-c990-434b-f089-d36a388eebbf"
      },
      "execution_count": 444,
      "outputs": [
        {
          "output_type": "stream",
          "name": "stdout",
          "text": [
            "1/1 [==============================] - 0s 70ms/step\n"
          ]
        },
        {
          "output_type": "execute_result",
          "data": {
            "text/plain": [
              "array([[1.0000000e+00, 1.5611582e-13],\n",
              "       [9.9999857e-01, 1.8765506e-06],\n",
              "       [1.0000000e+00, 4.0047745e-19],\n",
              "       [3.7234312e-07, 9.9999946e-01],\n",
              "       [1.0000000e+00, 2.2850895e-10]], dtype=float32)"
            ]
          },
          "metadata": {},
          "execution_count": 444
        }
      ]
    },
    {
      "cell_type": "code",
      "source": [
        "true_labels = y_test[0:5]\n",
        "true_labels"
      ],
      "metadata": {
        "colab": {
          "base_uri": "https://localhost:8080/"
        },
        "id": "cfsi2dspjKEG",
        "outputId": "c460d22a-5690-487b-d2f8-c98becc69674"
      },
      "execution_count": 445,
      "outputs": [
        {
          "output_type": "execute_result",
          "data": {
            "text/plain": [
              "array([[1., 0.],\n",
              "       [1., 0.],\n",
              "       [1., 0.],\n",
              "       [0., 1.],\n",
              "       [1., 0.]], dtype=float32)"
            ]
          },
          "metadata": {},
          "execution_count": 445
        }
      ]
    },
    {
      "cell_type": "code",
      "source": [
        "arr = np.array([\"B\", \"S\"])"
      ],
      "metadata": {
        "id": "g97VFY_6jVGW"
      },
      "execution_count": 446,
      "outputs": []
    },
    {
      "cell_type": "code",
      "source": [
        "arr[0]"
      ],
      "metadata": {
        "colab": {
          "base_uri": "https://localhost:8080/",
          "height": 35
        },
        "id": "80cyOJWSkE5M",
        "outputId": "388cafef-5f18-4a45-d4f4-3a71ef18b53f"
      },
      "execution_count": 447,
      "outputs": [
        {
          "output_type": "execute_result",
          "data": {
            "text/plain": [
              "'B'"
            ],
            "application/vnd.google.colaboratory.intrinsic+json": {
              "type": "string"
            }
          },
          "metadata": {},
          "execution_count": 447
        }
      ]
    },
    {
      "cell_type": "code",
      "source": [
        "for i in range(len(predictions)):\n",
        "  print(\"Prediction:\", arr[predictions[i].argmax()], \",\",\n",
        "        \"True Label:\", arr[true_labels[i].argmax()])"
      ],
      "metadata": {
        "colab": {
          "base_uri": "https://localhost:8080/"
        },
        "id": "XnEydVGSjLMf",
        "outputId": "bffa856d-10cd-4b86-94a9-0a7008be7b06"
      },
      "execution_count": 448,
      "outputs": [
        {
          "output_type": "stream",
          "name": "stdout",
          "text": [
            "Prediction: B , True Label: B\n",
            "Prediction: B , True Label: B\n",
            "Prediction: B , True Label: B\n",
            "Prediction: S , True Label: S\n",
            "Prediction: B , True Label: B\n"
          ]
        }
      ]
    },
    {
      "cell_type": "markdown",
      "source": [
        "## Save  and Convert the Neural Network to a tflite model"
      ],
      "metadata": {
        "id": "kgufoe8Bl0ec"
      }
    },
    {
      "cell_type": "code",
      "execution_count": 449,
      "metadata": {
        "id": "ldPl5rAeC37M"
      },
      "outputs": [],
      "source": [
        "converter = tf.lite.TFLiteConverter.from_keras_model(model)\n",
        "tflite_model = converter.convert()"
      ]
    },
    {
      "cell_type": "code",
      "execution_count": 450,
      "metadata": {
        "id": "HerzJ6quDXL8"
      },
      "outputs": [],
      "source": [
        "with open('model.tflite', 'wb') as f:\n",
        "  f.write(tflite_model)"
      ]
    }
  ],
  "metadata": {
    "colab": {
      "provenance": []
    },
    "kernelspec": {
      "display_name": "Python 3",
      "name": "python3"
    },
    "language_info": {
      "codemirror_mode": {
        "name": "ipython",
        "version": 3
      },
      "file_extension": ".py",
      "mimetype": "text/x-python",
      "name": "python",
      "nbconvert_exporter": "python",
      "pygments_lexer": "ipython3",
      "version": "3.10.14"
    }
  },
  "nbformat": 4,
  "nbformat_minor": 0
}