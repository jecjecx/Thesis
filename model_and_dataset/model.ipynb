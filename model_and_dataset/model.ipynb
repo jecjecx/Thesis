{
  "cells": [
    {
      "cell_type": "code",
      "execution_count": 1,
      "metadata": {
        "id": "968a9UWaPqaT"
      },
      "outputs": [],
      "source": [
        "import tensorflow as tf\n",
        "import pandas as pd\n",
        "from sklearn.model_selection import train_test_split\n",
        "import keras\n",
        "import numpy as np"
      ]
    },
    {
      "cell_type": "markdown",
      "metadata": {
        "id": "dkDAxKM3lOWx"
      },
      "source": [
        "## Load Data"
      ]
    },
    {
      "cell_type": "code",
      "execution_count": 3,
      "metadata": {
        "colab": {
          "base_uri": "https://localhost:8080/"
        },
        "id": "5hkK9_09PzoJ",
        "outputId": "d8fac75b-93bb-414a-f827-6216435856c2"
      },
      "outputs": [],
      "source": [
        "df = pd.read_csv(\"malgenome.csv\")"
      ]
    },
    {
      "cell_type": "markdown",
      "metadata": {
        "id": "a-ScK3PmlRR4"
      },
      "source": [
        "## Clean Data"
      ]
    },
    {
      "cell_type": "code",
      "execution_count": 4,
      "metadata": {
        "id": "yIDBTNJq4BKr"
      },
      "outputs": [],
      "source": [
        "# Replace NaN Values\n",
        "df = df.fillna(0)\n",
        "\n",
        "# Convert float columns to int\n",
        "int_columns = df.select_dtypes(include=['int']).columns\n",
        "df[int_columns] = df[int_columns].astype(float)"
      ]
    },
    {
      "cell_type": "code",
      "execution_count": 6,
      "metadata": {
        "colab": {
          "base_uri": "https://localhost:8080/",
          "height": 130
        },
        "id": "d0eEnLIcGdQp",
        "outputId": "136f38c6-7506-41be-ad20-538a5eef40e9"
      },
      "outputs": [
        {
          "data": {
            "text/html": [
              "<div>\n",
              "<style scoped>\n",
              "    .dataframe tbody tr th:only-of-type {\n",
              "        vertical-align: middle;\n",
              "    }\n",
              "\n",
              "    .dataframe tbody tr th {\n",
              "        vertical-align: top;\n",
              "    }\n",
              "\n",
              "    .dataframe thead th {\n",
              "        text-align: right;\n",
              "    }\n",
              "</style>\n",
              "<table border=\"1\" class=\"dataframe\">\n",
              "  <thead>\n",
              "    <tr style=\"text-align: right;\">\n",
              "      <th></th>\n",
              "      <th>transact</th>\n",
              "      <th>bindService</th>\n",
              "      <th>onServiceConnected</th>\n",
              "      <th>ServiceConnection</th>\n",
              "      <th>android.os.Binder</th>\n",
              "      <th>READ_SMS</th>\n",
              "      <th>attachInterface</th>\n",
              "      <th>WRITE_SMS</th>\n",
              "      <th>TelephonyManager.getSubscriberId</th>\n",
              "      <th>Ljava.lang.Class.getCanonicalName</th>\n",
              "      <th>...</th>\n",
              "      <th>READ_EXTERNAL_STORAGE</th>\n",
              "      <th>Ljava.lang.Object.getClass</th>\n",
              "      <th>SET_ORIENTATION</th>\n",
              "      <th>DEVICE_POWER</th>\n",
              "      <th>EXPAND_STATUS_BAR</th>\n",
              "      <th>GET_TASKS</th>\n",
              "      <th>GLOBAL_SEARCH</th>\n",
              "      <th>GET_PACKAGE_SIZE</th>\n",
              "      <th>SET_PREFERRED_APPLICATIONS</th>\n",
              "      <th>android.intent.action.PACKAGE_CHANGED</th>\n",
              "    </tr>\n",
              "  </thead>\n",
              "  <tbody>\n",
              "  </tbody>\n",
              "</table>\n",
              "<p>0 rows × 215 columns</p>\n",
              "</div>"
            ],
            "text/plain": [
              "Empty DataFrame\n",
              "Columns: [transact, bindService, onServiceConnected, ServiceConnection, android.os.Binder, READ_SMS, attachInterface, WRITE_SMS, TelephonyManager.getSubscriberId, Ljava.lang.Class.getCanonicalName, Ljava.lang.Class.getMethods, android.intent.action.BOOT_COMPLETED, Ljava.lang.Class.getField, READ_PHONE_STATE, Landroid.content.Context.unregisterReceiver, GET_ACCOUNTS, SEND_SMS, Landroid.content.Context.registerReceiver, getBinder, Ljava.lang.Class.cast, chmod, createSubprocess, Ljava.net.URLDecoder, WRITE_APN_SETTINGS, TelephonyManager.getDeviceId, RECEIVE_SMS, Ljava.lang.Class.getDeclaredField, HttpGet.init, Ljava.lang.Class.getPackage, abortBroadcast, ClassLoader, TelephonyManager.getLine1Number, getCallingUid, USE_CREDENTIALS, MANAGE_ACCOUNTS, android.telephony.gsm.SmsManager, .system.bin, Ljava.lang.Class.getMethod, RESTART_PACKAGES, INSTALL_PACKAGES, Ljava.lang.Class.forName, TelephonyManager.getSimSerialNumber, CAMERA, CALL_PHONE, android.intent.action.SEND, onBind, android.content.pm.Signature, READ_SYNC_SETTINGS, AUTHENTICATE_ACCOUNTS, INTERNET, PackageInstaller, ACCESS_LOCATION_EXTRA_COMMANDS, HttpUriRequest, remount, android.telephony.SmsManager, RECEIVE_BOOT_COMPLETED, android.intent.action.ACTION_POWER_CONNECTED, findClass, WRITE_CONTACTS, .system.app, Ljava.lang.Class.getResource, WRITE_SYNC_SETTINGS, android.intent.action.TIME_SET, android.intent.action.SEND_MULTIPLE, ACCESS_WIFI_STATE, URLClassLoader, BLUETOOTH, WAKE_LOCK, SYSTEM_ALERT_WINDOW, TelephonyManager.getSimCountryIso, chown, NFC, READ_HISTORY_BOOKMARKS, HttpPost.init, TelephonyManager.getNetworkOperator, Ljava.lang.Class.getClasses, BIND_REMOTEVIEWS, READ_PROFILE, READ_CALENDAR, CHANGE_WIFI_STATE, READ_SYNC_STATS, WRITE_HISTORY_BOOKMARKS, DISABLE_KEYGUARD, READ_LOGS, RECORD_AUDIO, getCallingPid, MODIFY_AUDIO_SETTINGS, android.intent.action.PACKAGE_REPLACED, android.intent.action.TIMEZONE_CHANGED, BROADCAST_STICKY, Runtime.exec, android.intent.action.PACKAGE_ADDED, MOUNT_UNMOUNT_FILESYSTEMS, android.intent.action.ACTION_POWER_DISCONNECTED, Ljava.lang.Class.getDeclaredClasses, android.intent.action.PACKAGE_REMOVED, BLUETOOTH_ADMIN, android.os.IBinder, IBinder, WRITE_SECURE_SETTINGS, ...]\n",
              "Index: []\n",
              "\n",
              "[0 rows x 215 columns]"
            ]
          },
          "execution_count": 6,
          "metadata": {},
          "output_type": "execute_result"
        }
      ],
      "source": [
        "X = df.drop(['class'], axis=1)\n",
        "search_string = 'B'\n",
        "result = X[X.eq(search_string).any(axis=1)]\n",
        "result"
      ]
    },
    {
      "cell_type": "code",
      "execution_count": 7,
      "metadata": {
        "colab": {
          "base_uri": "https://localhost:8080/"
        },
        "id": "jmeYJI0OIb3R",
        "outputId": "4aa425fd-0d4a-4325-f268-3ceadfc80990"
      },
      "outputs": [
        {
          "name": "stdout",
          "output_type": "stream",
          "text": [
            "Columns containing the string 'B': []\n"
          ]
        },
        {
          "name": "stderr",
          "output_type": "stream",
          "text": [
            "/var/folders/tp/v438l2fs1mjc_061z6srsc940000gn/T/ipykernel_3067/425193814.py:4: FutureWarning: DataFrame.applymap has been deprecated. Use DataFrame.map instead.\n",
            "  result = X.applymap(lambda x: search_string in str(x))\n"
          ]
        }
      ],
      "source": [
        "search_string = 'B'\n",
        "\n",
        "# Check if the search string exists in each cell\n",
        "result = X.applymap(lambda x: search_string in str(x))\n",
        "\n",
        "# Identify the columns where the search string exists\n",
        "columns_with_string = result.any()\n",
        "\n",
        "# Get the names of the columns\n",
        "columns_containing_string = columns_with_string[columns_with_string].index.tolist()\n",
        "\n",
        "print(\"Columns containing the string '{}': {}\".format(search_string, columns_containing_string))"
      ]
    },
    {
      "cell_type": "code",
      "execution_count": 8,
      "metadata": {
        "colab": {
          "base_uri": "https://localhost:8080/"
        },
        "id": "fgCeA--hI0dy",
        "outputId": "8c5d3351-fd2d-4ca8-feff-ffc843166f44"
      },
      "outputs": [
        {
          "name": "stderr",
          "output_type": "stream",
          "text": [
            "/var/folders/tp/v438l2fs1mjc_061z6srsc940000gn/T/ipykernel_3067/3173585280.py:1: FutureWarning: ChainedAssignmentError: behaviour will change in pandas 3.0!\n",
            "You are setting values through chained assignment. Currently this works in certain cases, but when using Copy-on-Write (which will become the default behaviour in pandas 3.0) this will never work to update the original DataFrame or Series, because the intermediate object on which we are setting values will behave as a copy.\n",
            "A typical example is when you are setting values in a column of a DataFrame, like:\n",
            "\n",
            "df[\"col\"][row_indexer] = value\n",
            "\n",
            "Use `df.loc[row_indexer, \"col\"] = values` instead, to perform the assignment in a single step and ensure this keeps updating the original `df`.\n",
            "\n",
            "See the caveats in the documentation: https://pandas.pydata.org/pandas-docs/stable/user_guide/indexing.html#returning-a-view-versus-a-copy\n",
            "\n",
            "  X['android.intent.action.NEW_OUTGOING_CALL'][3799] = 0.0\n"
          ]
        }
      ],
      "source": [
        "X['android.intent.action.NEW_OUTGOING_CALL'][3799] = 0.0"
      ]
    },
    {
      "cell_type": "code",
      "execution_count": 11,
      "metadata": {
        "id": "zVfXXfa17VYR"
      },
      "outputs": [
        {
          "name": "stderr",
          "output_type": "stream",
          "text": [
            "/var/folders/tp/v438l2fs1mjc_061z6srsc940000gn/T/ipykernel_3067/1369239371.py:2: FutureWarning: Downcasting behavior in `replace` is deprecated and will be removed in a future version. To retain the old behavior, explicitly call `result.infer_objects(copy=False)`. To opt-in to the future behavior, set `pd.set_option('future.no_silent_downcasting', True)`\n",
            "  y = y.replace({'S': 1, 'B': 0})\n"
          ]
        }
      ],
      "source": [
        "y = df['class']\n",
        "y = y.replace({'S': 1, 'B': 0})"
      ]
    },
    {
      "cell_type": "markdown",
      "metadata": {
        "id": "AmjmESeLlWKp"
      },
      "source": [
        "## Split Data into Train and Test"
      ]
    },
    {
      "cell_type": "code",
      "execution_count": 12,
      "metadata": {
        "id": "13yTzylH0qtM"
      },
      "outputs": [],
      "source": [
        "# Split the data into training and testing sets\n",
        "X_train, X_test, y_train, y_test = train_test_split(X, y, test_size=0.2, random_state=42)"
      ]
    },
    {
      "cell_type": "code",
      "execution_count": 13,
      "metadata": {
        "id": "gDBZSIHWEbuQ"
      },
      "outputs": [],
      "source": [
        "y_train = keras.utils.to_categorical(y_train,num_classes=2)\n",
        "y_test = keras.utils.to_categorical(y_test,num_classes=2)"
      ]
    },
    {
      "cell_type": "markdown",
      "metadata": {
        "id": "AbK4lRlwlm1I"
      },
      "source": [
        "## Build the Neural Network"
      ]
    },
    {
      "cell_type": "code",
      "execution_count": 14,
      "metadata": {
        "colab": {
          "base_uri": "https://localhost:8080/"
        },
        "id": "0bezdXW90qtM",
        "outputId": "47a1614f-8716-4e7b-9a0f-2f145e9cf3be"
      },
      "outputs": [
        {
          "name": "stderr",
          "output_type": "stream",
          "text": [
            "/Users/user/miniconda3/lib/python3.11/site-packages/keras/src/layers/core/dense.py:85: UserWarning: Do not pass an `input_shape`/`input_dim` argument to a layer. When using Sequential models, prefer using an `Input(shape)` object as the first layer in the model instead.\n",
            "  super().__init__(activity_regularizer=activity_regularizer, **kwargs)\n"
          ]
        },
        {
          "data": {
            "text/html": [
              "<pre style=\"white-space:pre;overflow-x:auto;line-height:normal;font-family:Menlo,'DejaVu Sans Mono',consolas,'Courier New',monospace\"><span style=\"font-weight: bold\">Model: \"sequential\"</span>\n",
              "</pre>\n"
            ],
            "text/plain": [
              "\u001b[1mModel: \"sequential\"\u001b[0m\n"
            ]
          },
          "metadata": {},
          "output_type": "display_data"
        },
        {
          "data": {
            "text/html": [
              "<pre style=\"white-space:pre;overflow-x:auto;line-height:normal;font-family:Menlo,'DejaVu Sans Mono',consolas,'Courier New',monospace\">┏━━━━━━━━━━━━━━━━━━━━━━━━━━━━━━━━━┳━━━━━━━━━━━━━━━━━━━━━━━━┳━━━━━━━━━━━━━━━┓\n",
              "┃<span style=\"font-weight: bold\"> Layer (type)                    </span>┃<span style=\"font-weight: bold\"> Output Shape           </span>┃<span style=\"font-weight: bold\">       Param # </span>┃\n",
              "┡━━━━━━━━━━━━━━━━━━━━━━━━━━━━━━━━━╇━━━━━━━━━━━━━━━━━━━━━━━━╇━━━━━━━━━━━━━━━┩\n",
              "│ dense (<span style=\"color: #0087ff; text-decoration-color: #0087ff\">Dense</span>)                   │ (<span style=\"color: #00d7ff; text-decoration-color: #00d7ff\">None</span>, <span style=\"color: #00af00; text-decoration-color: #00af00\">64</span>)             │        <span style=\"color: #00af00; text-decoration-color: #00af00\">13,824</span> │\n",
              "├─────────────────────────────────┼────────────────────────┼───────────────┤\n",
              "│ dense_1 (<span style=\"color: #0087ff; text-decoration-color: #0087ff\">Dense</span>)                 │ (<span style=\"color: #00d7ff; text-decoration-color: #00d7ff\">None</span>, <span style=\"color: #00af00; text-decoration-color: #00af00\">32</span>)             │         <span style=\"color: #00af00; text-decoration-color: #00af00\">2,080</span> │\n",
              "├─────────────────────────────────┼────────────────────────┼───────────────┤\n",
              "│ dense_2 (<span style=\"color: #0087ff; text-decoration-color: #0087ff\">Dense</span>)                 │ (<span style=\"color: #00d7ff; text-decoration-color: #00d7ff\">None</span>, <span style=\"color: #00af00; text-decoration-color: #00af00\">2</span>)              │            <span style=\"color: #00af00; text-decoration-color: #00af00\">66</span> │\n",
              "└─────────────────────────────────┴────────────────────────┴───────────────┘\n",
              "</pre>\n"
            ],
            "text/plain": [
              "┏━━━━━━━━━━━━━━━━━━━━━━━━━━━━━━━━━┳━━━━━━━━━━━━━━━━━━━━━━━━┳━━━━━━━━━━━━━━━┓\n",
              "┃\u001b[1m \u001b[0m\u001b[1mLayer (type)                   \u001b[0m\u001b[1m \u001b[0m┃\u001b[1m \u001b[0m\u001b[1mOutput Shape          \u001b[0m\u001b[1m \u001b[0m┃\u001b[1m \u001b[0m\u001b[1m      Param #\u001b[0m\u001b[1m \u001b[0m┃\n",
              "┡━━━━━━━━━━━━━━━━━━━━━━━━━━━━━━━━━╇━━━━━━━━━━━━━━━━━━━━━━━━╇━━━━━━━━━━━━━━━┩\n",
              "│ dense (\u001b[38;5;33mDense\u001b[0m)                   │ (\u001b[38;5;45mNone\u001b[0m, \u001b[38;5;34m64\u001b[0m)             │        \u001b[38;5;34m13,824\u001b[0m │\n",
              "├─────────────────────────────────┼────────────────────────┼───────────────┤\n",
              "│ dense_1 (\u001b[38;5;33mDense\u001b[0m)                 │ (\u001b[38;5;45mNone\u001b[0m, \u001b[38;5;34m32\u001b[0m)             │         \u001b[38;5;34m2,080\u001b[0m │\n",
              "├─────────────────────────────────┼────────────────────────┼───────────────┤\n",
              "│ dense_2 (\u001b[38;5;33mDense\u001b[0m)                 │ (\u001b[38;5;45mNone\u001b[0m, \u001b[38;5;34m2\u001b[0m)              │            \u001b[38;5;34m66\u001b[0m │\n",
              "└─────────────────────────────────┴────────────────────────┴───────────────┘\n"
            ]
          },
          "metadata": {},
          "output_type": "display_data"
        },
        {
          "data": {
            "text/html": [
              "<pre style=\"white-space:pre;overflow-x:auto;line-height:normal;font-family:Menlo,'DejaVu Sans Mono',consolas,'Courier New',monospace\"><span style=\"font-weight: bold\"> Total params: </span><span style=\"color: #00af00; text-decoration-color: #00af00\">15,970</span> (62.38 KB)\n",
              "</pre>\n"
            ],
            "text/plain": [
              "\u001b[1m Total params: \u001b[0m\u001b[38;5;34m15,970\u001b[0m (62.38 KB)\n"
            ]
          },
          "metadata": {},
          "output_type": "display_data"
        },
        {
          "data": {
            "text/html": [
              "<pre style=\"white-space:pre;overflow-x:auto;line-height:normal;font-family:Menlo,'DejaVu Sans Mono',consolas,'Courier New',monospace\"><span style=\"font-weight: bold\"> Trainable params: </span><span style=\"color: #00af00; text-decoration-color: #00af00\">15,970</span> (62.38 KB)\n",
              "</pre>\n"
            ],
            "text/plain": [
              "\u001b[1m Trainable params: \u001b[0m\u001b[38;5;34m15,970\u001b[0m (62.38 KB)\n"
            ]
          },
          "metadata": {},
          "output_type": "display_data"
        },
        {
          "data": {
            "text/html": [
              "<pre style=\"white-space:pre;overflow-x:auto;line-height:normal;font-family:Menlo,'DejaVu Sans Mono',consolas,'Courier New',monospace\"><span style=\"font-weight: bold\"> Non-trainable params: </span><span style=\"color: #00af00; text-decoration-color: #00af00\">0</span> (0.00 B)\n",
              "</pre>\n"
            ],
            "text/plain": [
              "\u001b[1m Non-trainable params: \u001b[0m\u001b[38;5;34m0\u001b[0m (0.00 B)\n"
            ]
          },
          "metadata": {},
          "output_type": "display_data"
        }
      ],
      "source": [
        "# Build the model\n",
        "model = tf.keras.models.Sequential([\n",
        "    tf.keras.layers.Dense(64, activation='relu', input_shape=(215,)),\n",
        "    tf.keras.layers.Dense(32, activation='relu'),\n",
        "    tf.keras.layers.Dense(2, activation='sigmoid')\n",
        "])\n",
        "\n",
        "model.summary()"
      ]
    },
    {
      "cell_type": "code",
      "execution_count": 15,
      "metadata": {
        "id": "CAAuCoQD0qtM"
      },
      "outputs": [],
      "source": [
        "model.compile(optimizer='adam',\n",
        "                loss='binary_crossentropy',\n",
        "                metrics=['accuracy'])"
      ]
    },
    {
      "cell_type": "markdown",
      "metadata": {
        "id": "o1UU51Wzltxy"
      },
      "source": [
        "## Train the Neural Network"
      ]
    },
    {
      "cell_type": "code",
      "execution_count": 16,
      "metadata": {
        "colab": {
          "base_uri": "https://localhost:8080/"
        },
        "id": "Pak0xe9dQRvt",
        "outputId": "ecbaf4ed-f073-43ce-b153-9d5e0099fbe6"
      },
      "outputs": [
        {
          "name": "stdout",
          "output_type": "stream",
          "text": [
            "Epoch 1/10\n",
            "\u001b[1m95/95\u001b[0m \u001b[32m━━━━━━━━━━━━━━━━━━━━\u001b[0m\u001b[37m\u001b[0m \u001b[1m0s\u001b[0m 665us/step - accuracy: 0.8448 - loss: 0.4072\n",
            "Epoch 2/10\n",
            "\u001b[1m95/95\u001b[0m \u001b[32m━━━━━━━━━━━━━━━━━━━━\u001b[0m\u001b[37m\u001b[0m \u001b[1m0s\u001b[0m 527us/step - accuracy: 0.9807 - loss: 0.0689\n",
            "Epoch 3/10\n",
            "\u001b[1m95/95\u001b[0m \u001b[32m━━━━━━━━━━━━━━━━━━━━\u001b[0m\u001b[37m\u001b[0m \u001b[1m0s\u001b[0m 591us/step - accuracy: 0.9913 - loss: 0.0402\n",
            "Epoch 4/10\n",
            "\u001b[1m95/95\u001b[0m \u001b[32m━━━━━━━━━━━━━━━━━━━━\u001b[0m\u001b[37m\u001b[0m \u001b[1m0s\u001b[0m 478us/step - accuracy: 0.9933 - loss: 0.0224\n",
            "Epoch 5/10\n",
            "\u001b[1m95/95\u001b[0m \u001b[32m━━━━━━━━━━━━━━━━━━━━\u001b[0m\u001b[37m\u001b[0m \u001b[1m0s\u001b[0m 471us/step - accuracy: 0.9978 - loss: 0.0127\n",
            "Epoch 6/10\n",
            "\u001b[1m95/95\u001b[0m \u001b[32m━━━━━━━━━━━━━━━━━━━━\u001b[0m\u001b[37m\u001b[0m \u001b[1m0s\u001b[0m 475us/step - accuracy: 0.9994 - loss: 0.0076\n",
            "Epoch 7/10\n",
            "\u001b[1m95/95\u001b[0m \u001b[32m━━━━━━━━━━━━━━━━━━━━\u001b[0m\u001b[37m\u001b[0m \u001b[1m0s\u001b[0m 548us/step - accuracy: 0.9998 - loss: 0.0045 \n",
            "Epoch 8/10\n",
            "\u001b[1m95/95\u001b[0m \u001b[32m━━━━━━━━━━━━━━━━━━━━\u001b[0m\u001b[37m\u001b[0m \u001b[1m0s\u001b[0m 599us/step - accuracy: 0.9998 - loss: 0.0040\n",
            "Epoch 9/10\n",
            "\u001b[1m95/95\u001b[0m \u001b[32m━━━━━━━━━━━━━━━━━━━━\u001b[0m\u001b[37m\u001b[0m \u001b[1m0s\u001b[0m 603us/step - accuracy: 0.9990 - loss: 0.0045\n",
            "Epoch 10/10\n",
            "\u001b[1m95/95\u001b[0m \u001b[32m━━━━━━━━━━━━━━━━━━━━\u001b[0m\u001b[37m\u001b[0m \u001b[1m0s\u001b[0m 498us/step - accuracy: 0.9999 - loss: 0.0021   \n"
          ]
        },
        {
          "data": {
            "text/plain": [
              "<keras.src.callbacks.history.History at 0x34fb68b50>"
            ]
          },
          "execution_count": 16,
          "metadata": {},
          "output_type": "execute_result"
        }
      ],
      "source": [
        "X_train = X_train.astype('float32')\n",
        "y_train = y_train.astype('float32')\n",
        "# Train the model\n",
        "model.fit(X_train, y_train, epochs=10)"
      ]
    },
    {
      "cell_type": "markdown",
      "metadata": {
        "id": "QnYRlBwHlwce"
      },
      "source": [
        "## Evaluate the Neural Network"
      ]
    },
    {
      "cell_type": "code",
      "execution_count": 17,
      "metadata": {
        "colab": {
          "base_uri": "https://localhost:8080/"
        },
        "id": "G7hlA1230qtN",
        "outputId": "2f85c560-fbb0-4ee6-bb56-6b902f3d7623"
      },
      "outputs": [
        {
          "name": "stdout",
          "output_type": "stream",
          "text": [
            "\u001b[1m24/24\u001b[0m \u001b[32m━━━━━━━━━━━━━━━━━━━━\u001b[0m\u001b[37m\u001b[0m \u001b[1m0s\u001b[0m 440us/step - accuracy: 0.9863 - loss: 0.0573\n",
            "Test Loss: 0.03735211119055748\n",
            "Test Accuracy: 0.99210524559021\n"
          ]
        }
      ],
      "source": [
        "X_test = X_test.astype('float32')\n",
        "y_test = y_test.astype('float32')\n",
        "\n",
        "# Evaluate the model\n",
        "loss, accuracy = model.evaluate(X_test, y_test)\n",
        "print(\"Test Loss:\", loss)\n",
        "print(\"Test Accuracy:\", accuracy)"
      ]
    },
    {
      "cell_type": "markdown",
      "metadata": {
        "id": "OuMHqRA1lyll"
      },
      "source": [
        "## Test the Neural Network"
      ]
    },
    {
      "cell_type": "code",
      "execution_count": 18,
      "metadata": {
        "colab": {
          "base_uri": "https://localhost:8080/"
        },
        "id": "6MQ2mET3hFFK",
        "outputId": "3ee03009-c990-434b-f089-d36a388eebbf"
      },
      "outputs": [
        {
          "name": "stdout",
          "output_type": "stream",
          "text": [
            "\u001b[1m1/1\u001b[0m \u001b[32m━━━━━━━━━━━━━━━━━━━━\u001b[0m\u001b[37m\u001b[0m \u001b[1m0s\u001b[0m 23ms/step\n"
          ]
        },
        {
          "data": {
            "text/plain": [
              "array([[6.9181630e-07, 9.9999923e-01],\n",
              "       [4.4909378e-08, 9.9999994e-01],\n",
              "       [3.5008411e-06, 9.9999696e-01],\n",
              "       [1.9941821e-04, 9.9988681e-01],\n",
              "       [9.8901409e-01, 9.3080467e-03]], dtype=float32)"
            ]
          },
          "execution_count": 18,
          "metadata": {},
          "output_type": "execute_result"
        }
      ],
      "source": [
        "predictions = model.predict(X_test[0:5])\n",
        "predictions"
      ]
    },
    {
      "cell_type": "code",
      "execution_count": 19,
      "metadata": {
        "colab": {
          "base_uri": "https://localhost:8080/"
        },
        "id": "cfsi2dspjKEG",
        "outputId": "c460d22a-5690-487b-d2f8-c98becc69674"
      },
      "outputs": [
        {
          "data": {
            "text/plain": [
              "array([[0., 1.],\n",
              "       [0., 1.],\n",
              "       [0., 1.],\n",
              "       [0., 1.],\n",
              "       [1., 0.]], dtype=float32)"
            ]
          },
          "execution_count": 19,
          "metadata": {},
          "output_type": "execute_result"
        }
      ],
      "source": [
        "true_labels = y_test[0:5]\n",
        "true_labels"
      ]
    },
    {
      "cell_type": "code",
      "execution_count": 20,
      "metadata": {
        "id": "g97VFY_6jVGW"
      },
      "outputs": [],
      "source": [
        "arr = np.array([\"B\", \"S\"])"
      ]
    },
    {
      "cell_type": "code",
      "execution_count": 21,
      "metadata": {
        "colab": {
          "base_uri": "https://localhost:8080/",
          "height": 35
        },
        "id": "80cyOJWSkE5M",
        "outputId": "388cafef-5f18-4a45-d4f4-3a71ef18b53f"
      },
      "outputs": [
        {
          "data": {
            "text/plain": [
              "'B'"
            ]
          },
          "execution_count": 21,
          "metadata": {},
          "output_type": "execute_result"
        }
      ],
      "source": [
        "arr[0]"
      ]
    },
    {
      "cell_type": "code",
      "execution_count": 22,
      "metadata": {
        "colab": {
          "base_uri": "https://localhost:8080/"
        },
        "id": "XnEydVGSjLMf",
        "outputId": "bffa856d-10cd-4b86-94a9-0a7008be7b06"
      },
      "outputs": [
        {
          "name": "stdout",
          "output_type": "stream",
          "text": [
            "Prediction: S , True Label: S\n",
            "Prediction: S , True Label: S\n",
            "Prediction: S , True Label: S\n",
            "Prediction: S , True Label: S\n",
            "Prediction: B , True Label: B\n"
          ]
        }
      ],
      "source": [
        "for i in range(len(predictions)):\n",
        "  print(\"Prediction:\", arr[predictions[i].argmax()], \",\",\n",
        "        \"True Label:\", arr[true_labels[i].argmax()])"
      ]
    },
    {
      "cell_type": "markdown",
      "metadata": {
        "id": "kgufoe8Bl0ec"
      },
      "source": [
        "## Save  and Convert the Neural Network to a tflite model"
      ]
    },
    {
      "cell_type": "code",
      "execution_count": 25,
      "metadata": {},
      "outputs": [],
      "source": [
        "model.save(\"mymodel.keras\")"
      ]
    },
    {
      "cell_type": "code",
      "execution_count": null,
      "metadata": {
        "id": "ldPl5rAeC37M"
      },
      "outputs": [],
      "source": [
        "converter = tf.lite.TFLiteConverter.from_keras_model(model)\n",
        "tflite_model = converter.convert()"
      ]
    },
    {
      "cell_type": "code",
      "execution_count": null,
      "metadata": {
        "id": "HerzJ6quDXL8"
      },
      "outputs": [],
      "source": [
        "with open('model.tflite', 'wb') as f:\n",
        "  f.write(tflite_model)"
      ]
    }
  ],
  "metadata": {
    "colab": {
      "provenance": []
    },
    "kernelspec": {
      "display_name": "Python 3",
      "name": "python3"
    },
    "language_info": {
      "codemirror_mode": {
        "name": "ipython",
        "version": 3
      },
      "file_extension": ".py",
      "mimetype": "text/x-python",
      "name": "python",
      "nbconvert_exporter": "python",
      "pygments_lexer": "ipython3",
      "version": "3.11.7"
    }
  },
  "nbformat": 4,
  "nbformat_minor": 0
}
